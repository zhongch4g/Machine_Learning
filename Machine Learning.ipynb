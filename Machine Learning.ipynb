{
 "cells": [
  {
   "cell_type": "code",
   "execution_count": 1,
   "metadata": {},
   "outputs": [
    {
     "name": "stdout",
     "output_type": "stream",
     "text": [
      "loading data...\n",
      "\n"
     ]
    }
   ],
   "source": [
    "import numpy as np\n",
    "import math\n",
    "class lr(object):\n",
    "    \n",
    "    def load_csv(self, path, delimiter):\n",
    "        # load data\n",
    "        print(\"loading data...\\n\")\n",
    "        data = np.loadtxt(path, dtype=np.str, delimiter=delimiter)\n",
    "        \n",
    "        # set feature from str to float64\n",
    "        feature = np.array(data[:, :-1].astype(np.float64))\n",
    "        \n",
    "        label = np.array(data[:, -1]).astype(np.float64)\n",
    "        return feature, label\n",
    "    \n",
    "    def leastSquares(self, X, y, order): \n",
    "            # using the fact that \\theta = (X^T X)^(-1)X^T y\n",
    "            # set X_0 = 1\n",
    "            orderX = []\n",
    "            for i in X:\n",
    "                tmp = []\n",
    "                for j in i:\n",
    "                    for k in range(1, order+1):\n",
    "                        tmp.append(math.pow(j, k))\n",
    "                orderX.append(tmp)\n",
    "            orderX = np.array(orderX)\n",
    "            one = np.ones(X.shape[0])\n",
    "            orderX = np.c_[one, orderX]\n",
    "            theta = np.ones(orderX.shape[1])\n",
    "            parameter = np.dot(np.dot(np.matrix(np.dot(orderX.T, orderX)).I, orderX.T), y)\n",
    "            return parameter\n",
    "           \n",
    "        \n",
    "    def run(self):\n",
    "        feature, label = self.load_csv(\"project1.csv\", \",\")\n",
    "#         print(feature, label)\n",
    "        parameter = self.leastSquares(feature, label, 4)\n",
    "        \n",
    "lr = lr()\n",
    "lr.run()"
   ]
  },
  {
   "cell_type": "code",
   "execution_count": 3,
   "metadata": {},
   "outputs": [
    {
     "ename": "ModuleNotFoundError",
     "evalue": "No module named 'matplotlib'",
     "output_type": "error",
     "traceback": [
      "\u001b[0;31m---------------------------------------------------------------------------\u001b[0m",
      "\u001b[0;31mModuleNotFoundError\u001b[0m                       Traceback (most recent call last)",
      "\u001b[0;32m<ipython-input-3-85b644120c08>\u001b[0m in \u001b[0;36m<module>\u001b[0;34m()\u001b[0m\n\u001b[0;32m----> 1\u001b[0;31m \u001b[0;32mfrom\u001b[0m \u001b[0mmatplotlib\u001b[0m \u001b[0;32mimport\u001b[0m \u001b[0mpyplot\u001b[0m \u001b[0;32mas\u001b[0m \u001b[0mplt\u001b[0m\u001b[0;34m\u001b[0m\u001b[0;34m\u001b[0m\u001b[0m\n\u001b[0m\u001b[1;32m      2\u001b[0m \u001b[0;32mimport\u001b[0m \u001b[0mnumpy\u001b[0m \u001b[0;32mas\u001b[0m \u001b[0mnp\u001b[0m\u001b[0;34m\u001b[0m\u001b[0;34m\u001b[0m\u001b[0m\n\u001b[1;32m      3\u001b[0m \u001b[0;32mfrom\u001b[0m \u001b[0mmpl_toolkits\u001b[0m\u001b[0;34m.\u001b[0m\u001b[0mmplot3d\u001b[0m \u001b[0;32mimport\u001b[0m \u001b[0mAxes3D\u001b[0m\u001b[0;34m\u001b[0m\u001b[0;34m\u001b[0m\u001b[0m\n\u001b[1;32m      4\u001b[0m \u001b[0;34m\u001b[0m\u001b[0m\n\u001b[1;32m      5\u001b[0m \u001b[0mfig\u001b[0m \u001b[0;34m=\u001b[0m \u001b[0mplt\u001b[0m\u001b[0;34m.\u001b[0m\u001b[0mfigure\u001b[0m\u001b[0;34m(\u001b[0m\u001b[0;34m)\u001b[0m\u001b[0;34m\u001b[0m\u001b[0;34m\u001b[0m\u001b[0m\n",
      "\u001b[0;31mModuleNotFoundError\u001b[0m: No module named 'matplotlib'"
     ]
    }
   ],
   "source": [
    "from matplotlib import pyplot as plt  \n",
    "import numpy as np  \n",
    "from mpl_toolkits.mplot3d import Axes3D\n",
    "  \n",
    "fig = plt.figure()  \n",
    "ax = Axes3D(fig)  \n",
    "X = np.arange(-2, 2, 0.1)  \n",
    "Y = np.arange(-2, 2, 0.1)  \n",
    "X, Y = np.meshgrid(X, Y)  \n",
    "Z = X**2 + Y**2  \n",
    "\n",
    "ax.plot_surface(X, Y, Z, rstride=1, cstride=1, cmap='rainbow')  \n",
    "plt.show() "
   ]
  },
  {
   "cell_type": "code",
   "execution_count": null,
   "metadata": {},
   "outputs": [],
   "source": []
  },
  {
   "cell_type": "code",
   "execution_count": null,
   "metadata": {},
   "outputs": [],
   "source": []
  }
 ],
 "metadata": {
  "kernelspec": {
   "display_name": "Python 2",
   "language": "python",
   "name": "python2"
  },
  "language_info": {
   "codemirror_mode": {
    "name": "ipython",
    "version": 3
   },
   "file_extension": ".py",
   "mimetype": "text/x-python",
   "name": "python",
   "nbconvert_exporter": "python",
   "pygments_lexer": "ipython3",
   "version": "3.7.1"
  }
 },
 "nbformat": 4,
 "nbformat_minor": 2
}
