{
 "cells": [
  {
   "cell_type": "code",
   "execution_count": 1,
   "metadata": {},
   "outputs": [
    {
     "name": "stdout",
     "output_type": "stream",
     "text": [
      "loading data...\n",
      "\n"
     ]
    }
   ],
   "source": [
    "import numpy as np\n",
    "import math\n",
    "class lr(object):\n",
    "    \n",
    "    def load_csv(self, path, delimiter):\n",
    "        # load data\n",
    "        print(\"loading data...\\n\")\n",
    "        data = np.loadtxt(path, dtype=np.str, delimiter=delimiter)\n",
    "        \n",
    "        # set feature from str to float64\n",
    "        feature = np.array(data[:, :-1].astype(np.float64))\n",
    "        \n",
    "        label = np.array(data[:, -1]).astype(np.float64)\n",
    "        return feature, label\n",
    "    \n",
    "    def leastSquares(self, X, y, order): \n",
    "            # using the fact that \\theta = (X^T X)^(-1)X^T y\n",
    "            # set X_0 = 1\n",
    "            orderX = []\n",
    "            for i in X:\n",
    "                tmp = []\n",
    "                for j in i:\n",
    "                    for k in range(1, order+1):\n",
    "                        tmp.append(math.pow(j, k))\n",
    "                orderX.append(tmp)\n",
    "            orderX = np.array(orderX)\n",
    "            one = np.ones(X.shape[0])\n",
    "            orderX = np.c_[one, orderX]\n",
    "            theta = np.ones(orderX.shape[1])\n",
    "            parameter = np.dot(np.dot(np.matrix(np.dot(orderX.T, orderX)).I, orderX.T), y)\n",
    "            return parameter\n",
    "           \n",
    "        \n",
    "    def run(self):\n",
    "        feature, label = self.load_csv(\"project1.csv\", \",\")\n",
    "#         print(feature, label)\n",
    "        parameter = self.leastSquares(feature, label, 4)\n",
    "        \n",
    "lr = lr()\n",
    "lr.run()"
   ]
  },
  {
   "cell_type": "code",
   "execution_count": 3,
   "metadata": {},
   "outputs": [
    {
     "ename": "ModuleNotFoundError",
     "evalue": "No module named 'matplotlib'",
     "output_type": "error",
     "traceback": [
      "\u001b[0;31m---------------------------------------------------------------------------\u001b[0m",
      "\u001b[0;31mModuleNotFoundError\u001b[0m                       Traceback (most recent call last)",
      "\u001b[0;32m<ipython-input-3-85b644120c08>\u001b[0m in \u001b[0;36m<module>\u001b[0;34m()\u001b[0m\n\u001b[0;32m----> 1\u001b[0;31m \u001b[0;32mfrom\u001b[0m \u001b[0mmatplotlib\u001b[0m \u001b[0;32mimport\u001b[0m \u001b[0mpyplot\u001b[0m \u001b[0;32mas\u001b[0m \u001b[0mplt\u001b[0m\u001b[0;34m\u001b[0m\u001b[0;34m\u001b[0m\u001b[0m\n\u001b[0m\u001b[1;32m      2\u001b[0m \u001b[0;32mimport\u001b[0m \u001b[0mnumpy\u001b[0m \u001b[0;32mas\u001b[0m \u001b[0mnp\u001b[0m\u001b[0;34m\u001b[0m\u001b[0;34m\u001b[0m\u001b[0m\n\u001b[1;32m      3\u001b[0m \u001b[0;32mfrom\u001b[0m \u001b[0mmpl_toolkits\u001b[0m\u001b[0;34m.\u001b[0m\u001b[0mmplot3d\u001b[0m \u001b[0;32mimport\u001b[0m \u001b[0mAxes3D\u001b[0m\u001b[0;34m\u001b[0m\u001b[0;34m\u001b[0m\u001b[0m\n\u001b[1;32m      4\u001b[0m \u001b[0;34m\u001b[0m\u001b[0m\n\u001b[1;32m      5\u001b[0m \u001b[0mfig\u001b[0m \u001b[0;34m=\u001b[0m \u001b[0mplt\u001b[0m\u001b[0;34m.\u001b[0m\u001b[0mfigure\u001b[0m\u001b[0;34m(\u001b[0m\u001b[0;34m)\u001b[0m\u001b[0;34m\u001b[0m\u001b[0;34m\u001b[0m\u001b[0m\n",
      "\u001b[0;31mModuleNotFoundError\u001b[0m: No module named 'matplotlib'"
     ]
    }
   ],
   "source": [
    "from matplotlib import pyplot as plt  \n",
    "import numpy as np  \n",
    "from mpl_toolkits.mplot3d import Axes3D\n",
    "  \n",
    "fig = plt.figure()  \n",
    "ax = Axes3D(fig)  \n",
    "X = np.arange(-2, 2, 0.1)  \n",
    "Y = np.arange(-2, 2, 0.1)  \n",
    "X, Y = np.meshgrid(X, Y)  \n",
    "Z = X**2 + Y**2  \n",
    "\n",
    "ax.plot_surface(X, Y, Z, rstride=1, cstride=1, cmap='rainbow')  \n",
    "plt.show() "
   ]
  },
  {
   "cell_type": "code",
   "execution_count": 4,
   "metadata": {},
   "outputs": [
    {
     "data": {
      "image/png": "[encoded data removed]",
      "text/plain": [
       "<Figure size 960x320 with 1 Axes>"
      ]
     },
     "metadata": {},
     "output_type": "display_data"
    }
   ],
   "source": [
    "from sklearn import svm\n",
    "import numpy as np\n",
    "import matplotlib.pyplot as plt\n",
    "\n",
    "def plot_hyperplane(clf, X, y, \n",
    "                    h=0.01, \n",
    "                    draw_sv=True, \n",
    "                    title='hyperplane'):\n",
    "    # create a mesh to plot in\n",
    "    x_min, x_max = X[:, 0].min() - 1, X[:, 0].max() + 1\n",
    "    y_min, y_max = X[:, 1].min() - 1, X[:, 1].max() + 1\n",
    "    xx, yy = np.meshgrid(np.arange(x_min, x_max, h),\n",
    "                         np.arange(y_min, y_max, h))\n",
    "\n",
    "    plt.title(title)\n",
    "    plt.xlim(xx.min(), xx.max())\n",
    "    plt.ylim(yy.min(), yy.max())\n",
    "    plt.xticks(())\n",
    "    plt.yticks(())\n",
    "\n",
    "    Z = clf.predict(np.c_[xx.ravel(), yy.ravel()]) # hyperplane\n",
    "    # Put the result into a color plot\n",
    "    Z = Z.reshape(xx.shape)\n",
    "    plt.contourf(xx, yy, Z, cmap='Accent', alpha=0.5)\n",
    "\n",
    "    markers = ['o', 's', '^']\n",
    "    colors = ['b', 'r', 'c']\n",
    "    labels = np.unique(y)\n",
    "    for label in labels:\n",
    "        plt.scatter(X[y==label][:, 0], \n",
    "                    X[y==label][:, 1], \n",
    "                    c=colors[label], \n",
    "                    marker=markers[label])\n",
    "    # draw support vector\n",
    "    if draw_sv:\n",
    "        sv = clf.support_vectors_\n",
    "        plt.scatter(sv[:, 0], sv[:, 1], c='y', marker='x')\n",
    "\n",
    "        \n",
    "X = np.array([[1, 2],[2, 3],[2, 1],[3, 4],[1, 3],[4, 4]])\n",
    "y = [-1, 1, -1, 1, -1, 1]\n",
    "clf = svm.SVC(C=10, kernel='linear')\n",
    "clf.fit(X, y)\n",
    "\n",
    "plt.figure(figsize=(12, 4), dpi=80)\n",
    "\n",
    "plot_hyperplane(clf, X, y, h=0.01, \n",
    "                title='Maximum Margin Hyperplane')\n"
   ]
  },
  {
   "cell_type": "code",
   "execution_count": 2,
   "metadata": {},
   "outputs": [
    {
     "data": {
      "image/png": "[encoded data removed]",
      "text/plain": [
       "<Figure size 1728x576 with 1 Axes>"
      ]
     },
     "metadata": {},
     "output_type": "display_data"
    }
   ],
   "source": [
    "import matplotlib.pyplot as plt\n",
    "import numpy as np\n",
    "\n",
    "def plot_hyperplane(clf, X, y, \n",
    "                    h=0.02, \n",
    "                    draw_sv=True, \n",
    "                    title='hyperplan'):\n",
    "    # create a mesh to plot in\n",
    "    x_min, x_max = X[:, 0].min() - 1, X[:, 0].max() + 1\n",
    "    y_min, y_max = X[:, 1].min() - 1, X[:, 1].max() + 1\n",
    "    xx, yy = np.meshgrid(np.arange(x_min, x_max, h),\n",
    "                         np.arange(y_min, y_max, h))\n",
    "\n",
    "    plt.title(title)\n",
    "    plt.xlim(xx.min(), xx.max())\n",
    "    plt.ylim(yy.min(), yy.max())\n",
    "    plt.xticks(())\n",
    "    plt.yticks(())\n",
    "\n",
    "    Z = clf.predict(np.c_[xx.ravel(), yy.ravel()])\n",
    "    # Put the result into a color plot\n",
    "    Z = Z.reshape(xx.shape)\n",
    "    plt.contourf(xx, yy, Z, cmap='hot', alpha=0.5)\n",
    "\n",
    "    markers = ['o', 's', '^']\n",
    "    colors = ['b', 'r', 'c']\n",
    "    labels = np.unique(y)\n",
    "    for label in labels:\n",
    "        plt.scatter(X[y==label][:, 0], \n",
    "                    X[y==label][:, 1], \n",
    "                    c=colors[label], \n",
    "                    marker=markers[label])\n",
    "    if draw_sv:\n",
    "        sv = clf.support_vectors_\n",
    "        plt.scatter(sv[:, 0], sv[:, 1], c='y', marker='x')\n",
    "\n",
    "        \n",
    "from sklearn import svm\n",
    "from sklearn.datasets import make_blobs\n",
    "\n",
    "X, y = make_blobs(n_samples=100, centers=2, \n",
    "                  random_state=0, cluster_std=0.3)\n",
    "clf = svm.SVC(C=1.0, kernel='linear')\n",
    "clf.fit(X, y)\n",
    "\n",
    "plt.figure(figsize=(12, 4), dpi=144)\n",
    "plot_hyperplane(clf, X, y, h=0.01, \n",
    "                title='Maximum Margin Hyperplan')\n"
   ]
  },
  {
   "cell_type": "code",
   "execution_count": null,
   "metadata": {},
   "outputs": [],
   "source": []
  }
 ],
 "metadata": {
  "kernelspec": {
   "display_name": "Python 2",
   "language": "python",
   "name": "python2"
  },
  "language_info": {
   "codemirror_mode": {
    "name": "ipython",
    "version": 3
   },
   "file_extension": ".py",
   "mimetype": "text/x-python",
   "name": "python",
   "nbconvert_exporter": "python",
   "pygments_lexer": "ipython3",
   "version": "3.7.2"
  }
 },
 "nbformat": 4,
 "nbformat_minor": 2
}
